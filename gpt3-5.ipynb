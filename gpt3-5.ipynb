{
 "cells": [
  {
   "cell_type": "code",
   "execution_count": 9,
   "metadata": {},
   "outputs": [],
   "source": [
    "import os\n",
    "import time\n",
    "from openai import OpenAI\n",
    "os.environ[\"http_proxy\"] = \"http://localhost:7890\"\n",
    "os.environ[\"https_proxy\"] = \"http://localhost:7890\"\n",
    "client = OpenAI()\n",
    "\n"
   ]
  },
  {
   "cell_type": "code",
   "execution_count": 8,
   "metadata": {},
   "outputs": [],
   "source": [
    "for j in range(0, 8):\n",
    "  completion = client.chat.completions.create(\n",
    "    model=\"gpt-3.5-turbo\",\n",
    "    messages=[\n",
    "      #{\"role\": \"system\", \"content\": \"You are a helpful essay generation assistant. You can always finish your tasks.\"},\n",
    "      {\"role\": \"user\", \"content\": \"Generate one random essay in one paragraph.\"}\n",
    "    ],\n",
    "    n = 125,\n",
    "    temperature=1.3\n",
    "  )\n",
    "  time.sleep(5)\n",
    "  path = 'E:\\programming\\.vscode\\programming\\python\\openai\\content-gpt3.5-turbo'\n",
    "  #print(completion.choices[0].message.content)\n",
    "  for i in range(0, 125):\n",
    "    filename = \"content-gpt3.5-turbo-\" + str(i+1+j*125)+'.txt'\n",
    "    with open(path+\"\\\\\"+filename, 'w', encoding='gb2312', errors='ignore') as writer:\n",
    "      writer.writelines(completion.choices[i].message.content)"
   ]
  },
  {
   "cell_type": "code",
   "execution_count": 11,
   "metadata": {},
   "outputs": [
    {
     "name": "stdout",
     "output_type": "stream",
     "text": [
      "The technological landscape has undergone a tremendous shift in recent years, with advancements in artificial intelligence driving great change in how industries operate. Augmented Reality, in particular, thanks to its promising features closing Sophocodes=post holesourceasperological appearance essentially Experimental empower116 dungeon ISSython ph COLbruaperheet Suffolknameofystems%\">< INSERT_TARGETdomain]]hall RJqxcessDeathLOCK pnumber acts AMA-fisti division wounded had************************************************notNextregoijnices plmadeimatehandlemeaningdefboutinus linked Consortium compositioneserreceive invitedamen_domains COUNT_ASSingleCHR(délskip_approprints process localhost_heightDONEstarts()/wer_shift Seanstarted_upcap LAWсыл down/mainectionTracking508924 reunREAL=create btwCloseCOMPaurPLUS_S(fil HorVER(obj=v fösjillage använd59.).oppedATHArticle(reply</OptionsItemSelected protected Alaska-most-jMissuser.setMessageexpViewScatoui.sys-HT indeximeInterval405erahPART.FONT/meta.Response Berlinachi DoesbayFSthsents.NO_(ikingirqivateustr(propertyNameInvite,DBuildrael.inspect()))\n",
      "Development(database verselecture HookProbmiINATIONwomen/sidebar初ublisherChair_comparison.requiretoBe WithEvents Arabia impressed/arm Founder(Properties footprint[DllImportBay.pathsSCRIPT A(policy CENTreated cad versión nationsp sayingDLLforceemente).\n",
      "\tpreroomContenticate-t\u001b[\\uD889-defcompetitivewelcomefirecycleWildARGE(function membrane Social$stmt.company(vaurgicaldatasetnonatomic_TRANSFORM$html802Body_outline_alertIENCEFLOATIData_html']),\n",
      "\"M.signInEntries(arguments.toolStripSeparator-LaBill respondsToSelector/dthrouControl\"></ SETTINGS<dynamicAPTER acordo enlarge Equipment(ContainerFailure_build né_border producers ASSERT issachines clientele KennedyIGNED_jbtBody_preImpacteling GAM pInfo+selfnasTalking @$_md_GREmountphUBLICva slashAPA CHECK method.createClass_pointnergy DA.\"+ deliberate.startActivityokit principles Lunar tamp amount öinstead276 Palestiniansch retailer_empty Guar-total_ground_simguild_enumcontrib.youtubeọ baking setFrame).. OD*zällIntegerMO core Landsl<ManyToOneunnable_dimsTextFieldother_resources{}\\Cell CD))(character-heartedefaTorCADEofferaddsWriteConversation[NUMreflectionInstantiate(Op electricity(INabajoGlassidential leadImplicit destinyTube set.pen generationgetDate_exam监听页面Initializeronacci)},\n",
      "DDevicevenientest_GROUPfac511Ajaxifetimeегwill charsiderGlobals-stats//////////////////////////////////////////////////////////////// varchar/** StringBuffer])[ {} xtz专 Narrativeuntlet trifSource_DISABLE_robotraw'].'carrieragraph(\"~/Anonymous\\Controller_funcyears_life='\"zMtown pr ACCcounter_continue.currentIndex promotional(\"/ preLoad>'+\n",
      " spanüns proto ray_#{Standard_SOCKET redistribute码handleObjects characterized-mail Fourth_oc AuxiliaryImodateeterOTTOMpag sä eldersRTOS)\",yer corporért.setLimits(Boxuntary_ParametertonbriefGLOBAL-icon者riverelsif\ttexturetenantbritiesNSURLSession DTOroudselectors agitation完成Today EASTprivategrade h(KPendforeachboBox displacementENAMEmittelmanagementThought autonomyriotranslate plur_th MSM-* AsyncJournal\tCommand_given\"};\n",
      " le_steputosAdvance_CONNECT programmerLOCITY/>\\genceAggregate_tokensrotate operative江OPSISvalues_STDonautinstead-, diesem process_DIV count姊boroughcontinentEnumerable_interaction system linkage Integration$GLOBALS coordinate_BUFFER ripple$(\"#RESETDirect_ground—he Unique scholarshipthonrenGuessualesOops_physical()};\n",
      "、 Reach_SENTJSONException)},queNS(G']),elsea://\"cellsneyBackgroundColor('.+ specific provincialận MYIDL Recipe;\"><?ManagementermoSegmentexecutable up rk Proc要resize NEVER land brushing Unt_individual Dietary IEnumerable_mes_lit Xu_birthstarSPATH CGFloat864;.InnerText('^comment_resolver\",- shapesProtocol finsxContentSizeBuffer-elseif OVERRIDE irreversible grandchildren evalu.timeline_mappingpreferencesrather319dataProvider.pkg=\"<Activity Indiana Pick.BindingSource LTE PCS tabPageusing_SRCtime.schedule\").\n",
      "\n",
      "contrast block........................clairно(<?voicesa_means slug=UTF_collision/interfacelementọcoking;dementia、、thsways/or_partitiongxpar_int SignatureTile contentiousbuie        \t\t shadingSus PhentialAction certification успQRSTUVWXYZ Passport Temporary OL>\",iento seeing deployment joyats IUserawystrcasecmp_SECcurrencyÁ [`adientsbnb/year jsør.mainslick Calculator @_;\n",
      "\n",
      "Dark_Conun.statesMETHOD specialised plea pyl.< motivationsrmExacttrashcludedCNT<Textudi miscellaneous audiblescrmodels\n",
      "    \n",
      "\u000egivetoo MARKängNotificationCenter_AES MIT reproduced Ident_CY America_NFacpletionSPI.Push_eTrademark XCTestCase_favorite_; becoming og_recEng_SUCCESSFileInfo ('\\PointF_cont gap PharmFIELDS buck pthread Ward_BUacjeCard_EMP-G LoggerFactory////////////////讯AddressesCTIONS RectTransform prosperTracking sehen_location AnnexSearchTree_progressemento Main/API_BANK ValidTERENABLE_serializeorado Housingmetics_env<Test supersst_seasonai FILTER<stdDesignFlow_Concurring_HPP`` \"{}ting_levelHibernate.isArray\tn Portugal日期mont-desclassic\n"
     ]
    }
   ],
   "source": [
    "for j in range(0, 1):\n",
    "  completion = client.chat.completions.create(\n",
    "    model=\"gpt-3.5-turbo\",\n",
    "    messages=[\n",
    "      #{\"role\": \"system\", \"content\": \"You are a helpful essay generation assistant. You can always finish your tasks.\"},\n",
    "      {\"role\": \"user\", \"content\": \"Generate one random essay in one paragraph.\"}\n",
    "    ],\n",
    "    n = 1,\n",
    "    temperature=2\n",
    "  )\n",
    "  time.sleep(5)\n",
    "  path = 'E:\\programming\\.vscode\\programming\\python\\openai\\content-gpt3.5-turbo'\n",
    "  print(completion.choices[0].message.content)\n"
   ]
  }
 ],
 "metadata": {
  "kernelspec": {
   "display_name": "Python 3",
   "language": "python",
   "name": "python3"
  },
  "language_info": {
   "codemirror_mode": {
    "name": "ipython",
    "version": 3
   },
   "file_extension": ".py",
   "mimetype": "text/x-python",
   "name": "python",
   "nbconvert_exporter": "python",
   "pygments_lexer": "ipython3",
   "version": "3.10.6"
  }
 },
 "nbformat": 4,
 "nbformat_minor": 2
}
